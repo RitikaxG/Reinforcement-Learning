{
 "cells": [
  {
   "cell_type": "markdown",
   "id": "3b21c81e",
   "metadata": {},
   "source": [
    "### RL for Autonomous Driving\n",
    "Train a reinforcement learning agent to drive a race car around atrack."
   ]
  },
  {
   "cell_type": "markdown",
   "id": "51f6d3f7",
   "metadata": {},
   "source": [
    "### 1. Import Dependencies"
   ]
  },
  {
   "cell_type": "code",
   "execution_count": null,
   "id": "0bfba3c8",
   "metadata": {},
   "outputs": [],
   "source": [
    "# pip install \"gym[box2d]\" pyglet\n",
    "# Racing car environment is build on top of box2d"
   ]
  },
  {
   "cell_type": "code",
   "execution_count": 1,
   "id": "14459152",
   "metadata": {},
   "outputs": [],
   "source": [
    "import gym\n",
    "from stable_baselines3 import PPO\n",
    "from stable_baselines3.common.vec_env import DummyVecEnv\n",
    "from stable_baselines3.common.evaluation import evaluate_policy\n",
    "import os"
   ]
  },
  {
   "cell_type": "markdown",
   "id": "1cd0b123",
   "metadata": {},
   "source": [
    "### 2. Test Environment"
   ]
  },
  {
   "cell_type": "code",
   "execution_count": 2,
   "id": "86ca0029",
   "metadata": {},
   "outputs": [
    {
     "name": "stderr",
     "output_type": "stream",
     "text": [
      "/Users/ritikagupta/anaconda3/lib/python3.11/site-packages/gym/utils/passive_env_checker.py:233: DeprecationWarning: `np.bool8` is a deprecated alias for `np.bool_`.  (Deprecated NumPy 1.24)\n",
      "  if not isinstance(terminated, (bool, np.bool8)):\n"
     ]
    },
    {
     "name": "stdout",
     "output_type": "stream",
     "text": [
      "Episode:1 Score:-851.5769230770256\n",
      "Episode:2 Score:-508.33636363638726\n",
      "Episode:3 Score:-879.6105263158986\n",
      "Episode:4 Score:-464.5260869565368\n",
      "Episode:5 Score:-869.4363636364704\n"
     ]
    }
   ],
   "source": [
    "import pygame\n",
    "pygame.init()\n",
    "\n",
    "import gym\n",
    "\n",
    "env = gym.make('CarRacing-v2', render_mode='human')  # Set render mode to 'human'\n",
    "\n",
    "episodes = 5\n",
    "for episode in range(1, episodes+1):\n",
    "    obs = env.reset()\n",
    "    done = False\n",
    "    score = 0\n",
    "    while not done:\n",
    "        env.render()\n",
    "        action = env.action_space.sample()\n",
    "        obs,reward,done,info,_ = env.step(action)\n",
    "        score+= reward\n",
    "    print('Episode:{} Score:{}'.format(episode,score))\n",
    "\n",
    "\n",
    "env.close()  # Close the environment after training\n",
    "pygame.quit()  # Quit Pygame after use\n",
    "\n"
   ]
  },
  {
   "cell_type": "code",
   "execution_count": 3,
   "id": "ab8e88b7",
   "metadata": {},
   "outputs": [],
   "source": [
    "env.close()"
   ]
  },
  {
   "cell_type": "markdown",
   "id": "b527b6ff",
   "metadata": {},
   "source": [
    "### 3. Train Model"
   ]
  },
  {
   "cell_type": "code",
   "execution_count": 16,
   "id": "b960123c",
   "metadata": {},
   "outputs": [],
   "source": [
    "env = gym.make('CarRacing-v2', render_mode='human')  \n",
    "env = DummyVecEnv([lambda:env])"
   ]
  },
  {
   "cell_type": "code",
   "execution_count": 17,
   "id": "470ceb28",
   "metadata": {},
   "outputs": [
    {
     "name": "stdout",
     "output_type": "stream",
     "text": [
      "Using cpu device\n",
      "Wrapping the env in a VecTransposeImage.\n"
     ]
    }
   ],
   "source": [
    "log_path = os.path.join('Training','logs')\n",
    "model = PPO('CnnPolicy',env,verbose=1,tensorboard_log=log_path)"
   ]
  },
  {
   "cell_type": "code",
   "execution_count": 18,
   "id": "abf8191e",
   "metadata": {},
   "outputs": [
    {
     "name": "stdout",
     "output_type": "stream",
     "text": [
      "Logging to Training/logs/PPO_11\n",
      "-----------------------------\n",
      "| time/              |      |\n",
      "|    fps             | 47   |\n",
      "|    iterations      | 1    |\n",
      "|    time_elapsed    | 42   |\n",
      "|    total_timesteps | 2048 |\n",
      "-----------------------------\n",
      "-----------------------------------------\n",
      "| time/                   |             |\n",
      "|    fps                  | 33          |\n",
      "|    iterations           | 2           |\n",
      "|    time_elapsed         | 122         |\n",
      "|    total_timesteps      | 4096        |\n",
      "| train/                  |             |\n",
      "|    approx_kl            | 0.006963756 |\n",
      "|    clip_fraction        | 0.0857      |\n",
      "|    clip_range           | 0.2         |\n",
      "|    entropy_loss         | -4.24       |\n",
      "|    explained_variance   | 0.00578     |\n",
      "|    learning_rate        | 0.0003      |\n",
      "|    loss                 | 0.312       |\n",
      "|    n_updates            | 10          |\n",
      "|    policy_gradient_loss | -0.00583    |\n",
      "|    std                  | 0.987       |\n",
      "|    value_loss           | 0.645       |\n",
      "-----------------------------------------\n",
      "-----------------------------------------\n",
      "| time/                   |             |\n",
      "|    fps                  | 30          |\n",
      "|    iterations           | 3           |\n",
      "|    time_elapsed         | 200         |\n",
      "|    total_timesteps      | 6144        |\n",
      "| train/                  |             |\n",
      "|    approx_kl            | 0.007952951 |\n",
      "|    clip_fraction        | 0.078       |\n",
      "|    clip_range           | 0.2         |\n",
      "|    entropy_loss         | -4.22       |\n",
      "|    explained_variance   | 0.106       |\n",
      "|    learning_rate        | 0.0003      |\n",
      "|    loss                 | 0.245       |\n",
      "|    n_updates            | 20          |\n",
      "|    policy_gradient_loss | -0.00619    |\n",
      "|    std                  | 0.985       |\n",
      "|    value_loss           | 0.631       |\n",
      "-----------------------------------------\n",
      "-----------------------------------------\n",
      "| time/                   |             |\n",
      "|    fps                  | 29          |\n",
      "|    iterations           | 4           |\n",
      "|    time_elapsed         | 277         |\n",
      "|    total_timesteps      | 8192        |\n",
      "| train/                  |             |\n",
      "|    approx_kl            | 0.006991674 |\n",
      "|    clip_fraction        | 0.0827      |\n",
      "|    clip_range           | 0.2         |\n",
      "|    entropy_loss         | -4.22       |\n",
      "|    explained_variance   | 0.343       |\n",
      "|    learning_rate        | 0.0003      |\n",
      "|    loss                 | 0.0729      |\n",
      "|    n_updates            | 30          |\n",
      "|    policy_gradient_loss | -0.00839    |\n",
      "|    std                  | 0.988       |\n",
      "|    value_loss           | 0.484       |\n",
      "-----------------------------------------\n",
      "-----------------------------------------\n",
      "| time/                   |             |\n",
      "|    fps                  | 29          |\n",
      "|    iterations           | 5           |\n",
      "|    time_elapsed         | 352         |\n",
      "|    total_timesteps      | 10240       |\n",
      "| train/                  |             |\n",
      "|    approx_kl            | 0.010416413 |\n",
      "|    clip_fraction        | 0.138       |\n",
      "|    clip_range           | 0.2         |\n",
      "|    entropy_loss         | -4.22       |\n",
      "|    explained_variance   | 0.387       |\n",
      "|    learning_rate        | 0.0003      |\n",
      "|    loss                 | 0.112       |\n",
      "|    n_updates            | 40          |\n",
      "|    policy_gradient_loss | -0.012      |\n",
      "|    std                  | 0.985       |\n",
      "|    value_loss           | 0.543       |\n",
      "-----------------------------------------\n"
     ]
    },
    {
     "data": {
      "text/plain": [
       "<stable_baselines3.ppo.ppo.PPO at 0x13bb978d0>"
      ]
     },
     "execution_count": 18,
     "metadata": {},
     "output_type": "execute_result"
    }
   ],
   "source": [
    "model.learn(total_timesteps=10000)"
   ]
  },
  {
   "cell_type": "markdown",
   "id": "9673f112",
   "metadata": {},
   "source": [
    "### 4. Save Model"
   ]
  },
  {
   "cell_type": "code",
   "execution_count": 19,
   "id": "314164fd",
   "metadata": {},
   "outputs": [],
   "source": [
    "ppo_path = os.path.join('Training','Saved Models','PPO_Driving_Model')"
   ]
  },
  {
   "cell_type": "code",
   "execution_count": 20,
   "id": "d4299b1b",
   "metadata": {},
   "outputs": [],
   "source": [
    "model.save(ppo_path)"
   ]
  },
  {
   "cell_type": "markdown",
   "id": "98beb76b",
   "metadata": {},
   "source": [
    "### 5. Evaluate and Test"
   ]
  },
  {
   "cell_type": "code",
   "execution_count": 21,
   "id": "200b5c7d",
   "metadata": {},
   "outputs": [
    {
     "name": "stderr",
     "output_type": "stream",
     "text": [
      "/Users/ritikagupta/anaconda3/lib/python3.11/site-packages/stable_baselines3/common/evaluation.py:67: UserWarning: Evaluation environment is not wrapped with a ``Monitor`` wrapper. This may result in reporting modified episode lengths and rewards, if other wrappers happen to modify these. Consider wrapping environment first with ``Monitor`` wrapper.\n",
      "  warnings.warn(\n"
     ]
    },
    {
     "data": {
      "text/plain": [
       "(-72.19435708150267, 25.836270284910494)"
      ]
     },
     "execution_count": 21,
     "metadata": {},
     "output_type": "execute_result"
    }
   ],
   "source": [
    "evaluate_policy(model,env,n_eval_episodes=10,render=True)"
   ]
  },
  {
   "cell_type": "code",
   "execution_count": 22,
   "id": "7fc33812",
   "metadata": {},
   "outputs": [],
   "source": [
    "env.close()"
   ]
  },
  {
   "cell_type": "code",
   "execution_count": 23,
   "id": "01bfe68c",
   "metadata": {},
   "outputs": [
    {
     "name": "stdout",
     "output_type": "stream",
     "text": [
      "Episode:1 Score:-882.1930693070404\n",
      "Episode:2 Score:-852.6222222223249\n",
      "Episode:3 Score:-894.5470588236417\n",
      "Episode:4 Score:-890.352631579059\n",
      "Episode:5 Score:-849.9797570851224\n"
     ]
    }
   ],
   "source": [
    "pygame.init()\n",
    "\n",
    "import gym\n",
    "\n",
    "env = gym.make('CarRacing-v2', render_mode='human')  # Set render mode to 'human'\n",
    "\n",
    "episodes = 5\n",
    "for episode in range(1, episodes+1):\n",
    "    obs = env.reset()\n",
    "    done = False\n",
    "    score = 0\n",
    "    while not done:\n",
    "        env.render()\n",
    "        action = env.action_space.sample()\n",
    "        obs,reward,done,info,_ = env.step(action)\n",
    "        score+= reward\n",
    "    print('Episode:{} Score:{}'.format(episode,score))\n",
    "\n",
    "\n",
    "env.close()  # Close the environment after training\n",
    "pygame.quit()  # Quit Pygame after use\n"
   ]
  },
  {
   "cell_type": "code",
   "execution_count": null,
   "id": "1a317f38",
   "metadata": {},
   "outputs": [],
   "source": []
  }
 ],
 "metadata": {
  "kernelspec": {
   "display_name": "Python 3 (ipykernel)",
   "language": "python",
   "name": "python3"
  },
  "language_info": {
   "codemirror_mode": {
    "name": "ipython",
    "version": 3
   },
   "file_extension": ".py",
   "mimetype": "text/x-python",
   "name": "python",
   "nbconvert_exporter": "python",
   "pygments_lexer": "ipython3",
   "version": "3.11.5"
  }
 },
 "nbformat": 4,
 "nbformat_minor": 5
}
